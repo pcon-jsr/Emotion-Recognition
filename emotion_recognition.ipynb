{
 "cells": [
  {
   "cell_type": "code",
   "execution_count": 1,
   "metadata": {},
   "outputs": [],
   "source": [
    "import numpy as np\n",
    "import pandas as pd\n",
    "import keras\n",
    "from keras import layers, metrics\n",
    "import keras.backend as K\n",
    "from keras.initializers import glorot_uniform\n",
    "import cv2\n",
    "from PIL import Image\n",
    "import matplotlib.pyplot as plt\n",
    "from tqdm import tqdm\n",
    "from keras.utils import np_utils, plot_model\n",
    "from keras.preprocessing.image import ImageDataGenerator\n",
    "%matplotlib inline\n",
    "\n",
    "K.set_image_data_format('channels_last')\n",
    "K.set_learning_phase(1)"
   ]
  },
  {
   "cell_type": "code",
   "execution_count": 2,
   "metadata": {},
   "outputs": [
    {
     "name": "stderr",
     "output_type": "stream",
     "text": [
      "35887it [00:43, 816.04it/s]\n"
     ]
    },
    {
     "name": "stdout",
     "output_type": "stream",
     "text": [
      "(35887, 48, 48, 1)\n",
      "(35887, 6)\n"
     ]
    }
   ],
   "source": [
    "raw_data = pd.read_csv('data/fer2013.csv')\n",
    "\n",
    "X = []\n",
    "y = []\n",
    "\n",
    "for index, data in tqdm(raw_data.iterrows()):\n",
    "    #merges \"Anger\" and \"Disgust\" into one emotion as \"Disgust\" has very few examples and both are similar emotions.\n",
    "    if(data['emotion']==0):\n",
    "        y.append(0)\n",
    "    else:\n",
    "        y.append(data['emotion']-1)\n",
    "    x = data['pixels'].split(\" \")\n",
    "    _x = [int(d) for d in x]\n",
    "    X.append(_x)\n",
    "\n",
    "X = np.asarray(X)\n",
    "y = np.asarray(y)\n",
    "X = np.reshape(X, (35887, 48, 48, 1 ))\n",
    "y = np.reshape(y, (35887, 1 ))\n",
    "y = np_utils.to_categorical(y, 6)\n",
    "\n",
    "print X.shape\n",
    "print y.shape"
   ]
  },
  {
   "cell_type": "code",
   "execution_count": 3,
   "metadata": {},
   "outputs": [
    {
     "name": "stdout",
     "output_type": "stream",
     "text": [
      "(30000, 48, 48, 1)\n",
      "(30000, 6)\n",
      "(5887, 48, 48, 1)\n",
      "(5887, 6)\n"
     ]
    }
   ],
   "source": [
    "X = X/225.\n",
    "\n",
    "train_X = []\n",
    "train_y = []\n",
    "test_X = []\n",
    "test_y = []\n",
    "\n",
    "train_X = X[:30000,:,:,:]\n",
    "train_y = y[:30000,:]\n",
    "\n",
    "test_X = X[30000:,:,:,:]\n",
    "test_y = y[30000:, :]\n",
    "\n",
    "print train_X.shape\n",
    "print train_y.shape\n",
    "print test_X.shape\n",
    "print test_y.shape"
   ]
  },
  {
   "cell_type": "code",
   "execution_count": 4,
   "metadata": {},
   "outputs": [
    {
     "name": "stdout",
     "output_type": "stream",
     "text": [
      "[ 0.  0.  0.  0.  0.  1.]\n"
     ]
    },
    {
     "data": {
      "text/plain": [
       "<matplotlib.image.AxesImage at 0x7f54327c1850>"
      ]
     },
     "execution_count": 4,
     "metadata": {},
     "output_type": "execute_result"
    },
    {
     "data": {
      "image/png": "[encoded data removed]",
      "text/plain": [
       "<matplotlib.figure.Figure at 0x7f546d2ebad0>"
      ]
     },
     "metadata": {},
     "output_type": "display_data"
    }
   ],
   "source": [
    "print train_y[4]\n",
    "img_array = train_X[4]\n",
    "img_array = np.reshape(img_array, (48, 48))\n",
    "\n",
    "plt.imshow(img_array, cmap=\"gray\")"
   ]
  },
  {
   "cell_type": "code",
   "execution_count": 5,
   "metadata": {},
   "outputs": [],
   "source": [
    "def inception_block(input_x, filters):\n",
    "    f1, f2, f3, f4, f5, f6 = filters\n",
    "    \n",
    "    X = input_x\n",
    "    \n",
    "    conv1_1x1 = layers.Conv2D(f1, kernel_size=(1,1), padding='same', kernel_initializer=glorot_uniform())(input_x)\n",
    "    conv1_1x1 = layers.Activation('relu')(conv1_1x1)\n",
    "    \n",
    "    conv2_1x1 = layers.Conv2D(f2, kernel_size=(1,1), padding='same', kernel_initializer=glorot_uniform())(input_x)\n",
    "    conv2_1x1 = layers.Activation('relu')(conv2_1x1)\n",
    "    conv2_3x3 = layers.Conv2D(f3, kernel_size=(3,3), padding='same', kernel_initializer=glorot_uniform())(conv2_1x1)\n",
    "    conv2_3x3 = layers.Activation('relu')(conv2_3x3)\n",
    "    \n",
    "    conv3_1x1 = layers.Conv2D(f4, kernel_size=(1,1), padding='same', kernel_initializer=glorot_uniform())(input_x)\n",
    "    conv3_1x1 = layers.Activation('relu')(conv3_1x1)\n",
    "    conv3_5x5 = layers.Conv2D(f5, kernel_size=(5,5), padding='same', kernel_initializer=glorot_uniform())(conv3_1x1)\n",
    "    conv3_5x5 = layers.Activation('relu')(conv3_5x5)\n",
    "    \n",
    "    pool = layers.MaxPool2D(pool_size=(3,3), strides=(1,1), padding=\"same\")(input_x)\n",
    "    conv_pool_1x1 = layers.Conv2D(f6, kernel_size=(1,1), padding='same', kernel_initializer=glorot_uniform())(pool)\n",
    "    conv_pool_1x1 = layers.Activation('relu')(conv_pool_1x1)\n",
    "    \n",
    "    output = layers.Concatenate(axis=-1)([conv1_1x1, conv2_3x3, conv3_5x5, conv_pool_1x1])\n",
    "    \n",
    "    return output"
   ]
  },
  {
   "cell_type": "code",
   "execution_count": 6,
   "metadata": {},
   "outputs": [],
   "source": [
    "def model_def(input_shape, n_classes):\n",
    "    input_x = layers.Input(input_shape)\n",
    "    \n",
    "    X = input_x\n",
    "    \n",
    "    X = layers.Conv2D(64, kernel_size=(3,3), strides=(1,1), padding=\"same\", kernel_initializer=glorot_uniform())(X)\n",
    "    X = layers.Activation('relu')(X)\n",
    "    \n",
    "    X = layers.MaxPool2D(pool_size=(2,2), strides=(2,2), padding=\"valid\")(X)\n",
    "    \n",
    "    X = layers.Conv2D(128, kernel_size=(3,3), strides=(2,2), padding=\"same\", kernel_initializer=glorot_uniform())(X)\n",
    "    X = layers.Activation('relu')(X)\n",
    "    \n",
    "    X = inception_block(X, [64, 96, 128, 16, 32, 32])\n",
    "    \n",
    "    X = inception_block(X, [128, 128, 192, 32, 96, 64])\n",
    "    \n",
    "    X = layers.MaxPool2D(pool_size=(2,2), strides=(2,2), padding=\"valid\")(X)\n",
    "    \n",
    "    X = inception_block(X, [192, 96, 208, 16, 48, 64])\n",
    "    \n",
    "    X = layers.MaxPool2D(pool_size=(2,2), strides=(2,2), padding=\"valid\")(X)\n",
    "    \n",
    "    X = inception_block(X, [256, 160, 320, 32, 128, 128])\n",
    "    \n",
    "    X = inception_block(X, [384, 192, 384, 48, 128, 128])\n",
    "    \n",
    "    X = layers.MaxPool2D(pool_size=(3,3), strides=(1,1), padding=\"valid\")(X)\n",
    "    \n",
    "    X = layers.Flatten()(X)\n",
    "    \n",
    "    X = layers.Dropout(0.4)(X)\n",
    "    \n",
    "    X = layers.Dense(n_classes, activation='softmax')(X)\n",
    "    \n",
    "    model = keras.Model(inputs=input_x, outputs=X)\n",
    "    \n",
    "    model.load_weights('models/er_model_1.h5')\n",
    "    \n",
    "    return model\n",
    "    "
   ]
  },
  {
   "cell_type": "code",
   "execution_count": 7,
   "metadata": {},
   "outputs": [],
   "source": [
    "er_model = model_def(input_shape = (48, 48, 1), n_classes=6)"
   ]
  },
  {
   "cell_type": "code",
   "execution_count": 19,
   "metadata": {},
   "outputs": [],
   "source": [
    "import functools\n",
    "top3_acc = functools.partial(keras.metrics.top_k_categorical_accuracy, k=3)\n",
    "top2_acc = functools.partial(keras.metrics.top_k_categorical_accuracy, k=2)\n",
    "\n",
    "top3_acc.__name__ = 'top3_acc'\n",
    "top2_acc.__name__ = 'top2_acc'"
   ]
  },
  {
   "cell_type": "code",
   "execution_count": 20,
   "metadata": {},
   "outputs": [],
   "source": [
    "er_model.compile(optimizer='adam', loss='categorical_crossentropy', metrics=['accuracy', top2_acc, top3_acc])"
   ]
  },
  {
   "cell_type": "code",
   "execution_count": 21,
   "metadata": {},
   "outputs": [],
   "source": [
    "datagen = ImageDataGenerator(rotation_range=40,\n",
    "        width_shift_range=0.2,\n",
    "        height_shift_range=0.2,\n",
    "        shear_range=0.2,\n",
    "        zoom_range=0.2,\n",
    "        horizontal_flip=True,\n",
    "        fill_mode='nearest')\n",
    "\n",
    "datagen.fit(train_X)"
   ]
  },
  {
   "cell_type": "code",
   "execution_count": 24,
   "metadata": {},
   "outputs": [
    {
     "name": "stdout",
     "output_type": "stream",
     "text": [
      "Epoch 1/2\n",
      "937/937 [==============================] - 388s 414ms/step - loss: 1.2701 - acc: 0.5021 - top2_acc: 0.7052 - top3_acc: 0.8357\n",
      "Epoch 2/2\n",
      "937/937 [==============================] - 388s 414ms/step - loss: 1.2500 - acc: 0.5115 - top2_acc: 0.7143 - top3_acc: 0.8418\n"
     ]
    }
   ],
   "source": [
    "history = er_model.fit_generator(datagen.flow(train_X, train_y, batch_size=32), \n",
    "             steps_per_epoch=len(train_X) / 32, epochs = 2, shuffle=True)"
   ]
  },
  {
   "cell_type": "code",
   "execution_count": 25,
   "metadata": {},
   "outputs": [
    {
     "name": "stdout",
     "output_type": "stream",
     "text": [
      "5887/5887 [==============================] - 23s 4ms/step\n",
      "0.536775946921 0.740105316698 0.86699507376\n"
     ]
    }
   ],
   "source": [
    "loss, acc, acc2, acc3 = er_model.evaluate(test_X, test_y)\n",
    "print acc, acc2, acc3"
   ]
  },
  {
   "cell_type": "code",
   "execution_count": 47,
   "metadata": {},
   "outputs": [],
   "source": [
    "er_model.save_weights(\"models/er_model_1.h5\")"
   ]
  },
  {
   "cell_type": "code",
   "execution_count": 48,
   "metadata": {},
   "outputs": [],
   "source": [
    "plot_model(er_model, \"model.png\", show_shapes=True)"
   ]
  },
  {
   "cell_type": "code",
   "execution_count": null,
   "metadata": {},
   "outputs": [],
   "source": []
  }
 ],
 "metadata": {
  "kernelspec": {
   "display_name": "Python 2",
   "language": "python",
   "name": "python2"
  },
  "language_info": {
   "codemirror_mode": {
    "name": "ipython",
    "version": 2
   },
   "file_extension": ".py",
   "mimetype": "text/x-python",
   "name": "python",
   "nbconvert_exporter": "python",
   "pygments_lexer": "ipython2",
   "version": "2.7.12"
  }
 },
 "nbformat": 4,
 "nbformat_minor": 2
}
